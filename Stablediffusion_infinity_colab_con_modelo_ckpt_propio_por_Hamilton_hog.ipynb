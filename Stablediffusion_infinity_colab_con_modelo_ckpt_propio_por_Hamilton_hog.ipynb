{
  "cells": [
    {
      "cell_type": "markdown",
      "metadata": {
        "id": "IgN1jqV_DemW"
      },
      "source": [
        "# Repositorio oficial de stablediffusion-infinity\n",
        "\n",
        "https://github.com/lkwq007/stablediffusion-infinity\n",
        "\n",
        "Outpainting con Stable diffusion en un lienzo \"infinito\". (El rendimiento del outpainting con Stable diffusion en un lienzo infinito puede verse limitado por la GPU que se utilice. Si la GPU es de baja calidad, el canvas podría verse ralentizado debido a un procesamiento ineficiente.)"
      ]
    },
    {
      "cell_type": "code",
      "execution_count": null,
      "metadata": {
        "cellView": "form",
        "colab": {
          "base_uri": "https://localhost:8080/"
        },
        "id": "CrsQe1aGNo14",
        "outputId": "49c883c6-3a07-497c-a085-b0ec12fe89a1"
      },
      "outputs": [
        {
          "name": "stdout",
          "output_type": "stream",
          "text": [
            "GPU 0: Tesla T4 (UUID: GPU-4c6953f1-2760-3e9b-df40-663f53d84808)\n"
          ]
        }
      ],
      "source": [
        "#@markdown verificar las Grafica de google, se recomienda Tesla T4 para una ejecucuion más rapida, de lo contrario se puede reiniciar el entorno de ejecución\n",
        "!nvidia-smi -L"
      ]
    },
    {
      "cell_type": "code",
      "execution_count": null,
      "metadata": {
        "cellView": "form",
        "colab": {
          "base_uri": "https://localhost:8080/"
        },
        "id": "jaZef8rSpHGm",
        "outputId": "47f518a5-5e03-4ae0-cc8a-18081778daf6"
      },
      "outputs": [
        {
          "name": "stdout",
          "output_type": "stream",
          "text": [
            "Mounted at /content/gdrive\n"
          ]
        }
      ],
      "source": [
        "from google.colab import drive\n",
        "drive.mount('/content/gdrive')\n",
        "#@markdown Conectar el cuaderno con Drive para acceder al modelo ckpt"
      ]
    },
    {
      "cell_type": "code",
      "execution_count": null,
      "metadata": {
        "cellView": "form",
        "colab": {
          "base_uri": "https://localhost:8080/"
        },
        "id": "JvbfNNSJDTW5",
        "outputId": "71c7b72c-67b6-43d1-e8ab-023796f6316e"
      },
      "outputs": [
        {
          "name": "stdout",
          "output_type": "stream",
          "text": [
            "\u001b[K     |████████████████████████████████| 5.3 MB 26.9 MB/s \n",
            "\u001b[K     |████████████████████████████████| 56 kB 5.0 MB/s \n",
            "\u001b[K     |████████████████████████████████| 84 kB 3.7 MB/s \n",
            "\u001b[K     |████████████████████████████████| 54 kB 3.7 MB/s \n",
            "\u001b[K     |████████████████████████████████| 2.3 MB 66.6 MB/s \n",
            "\u001b[K     |████████████████████████████████| 55 kB 3.3 MB/s \n",
            "\u001b[K     |████████████████████████████████| 84 kB 4.6 MB/s \n",
            "\u001b[K     |████████████████████████████████| 278 kB 79.2 MB/s \n",
            "\u001b[K     |████████████████████████████████| 213 kB 59.0 MB/s \n",
            "\u001b[K     |████████████████████████████████| 106 kB 79.3 MB/s \n",
            "\u001b[K     |████████████████████████████████| 64 kB 3.3 MB/s \n",
            "\u001b[K     |████████████████████████████████| 80 kB 10.7 MB/s \n",
            "\u001b[K     |████████████████████████████████| 68 kB 3.0 MB/s \n",
            "\u001b[K     |████████████████████████████████| 68 kB 8.4 MB/s \n",
            "\u001b[K     |████████████████████████████████| 68 kB 8.2 MB/s \n",
            "\u001b[K     |████████████████████████████████| 68 kB 7.5 MB/s \n",
            "\u001b[K     |████████████████████████████████| 50 kB 8.1 MB/s \n",
            "\u001b[K     |████████████████████████████████| 856 kB 60.2 MB/s \n",
            "\u001b[K     |████████████████████████████████| 593 kB 71.4 MB/s \n",
            "\u001b[K     |████████████████████████████████| 4.0 MB 61.5 MB/s \n",
            "\u001b[?25h  Building wheel for ffmpy (setup.py) ... \u001b[?25l\u001b[?25hdone\n",
            "  Building wheel for python-multipart (setup.py) ... \u001b[?25l\u001b[?25hdone\n",
            "\u001b[K     |████████████████████████████████| 549 kB 66.5 MB/s \n",
            "\u001b[K     |████████████████████████████████| 32.5 MB 1.2 MB/s \n",
            "\u001b[K     |████████████████████████████████| 237 kB 76.1 MB/s \n",
            "\u001b[K     |████████████████████████████████| 182 kB 83.5 MB/s \n",
            "\u001b[K     |████████████████████████████████| 51 kB 8.4 MB/s \n",
            "\u001b[?25h  Building wheel for fpie (setup.py) ... \u001b[?25l\u001b[?25hdone\n"
          ]
        }
      ],
      "source": [
        "#@title Librerias\n",
        "#@markdown librerias reuqeridas para ejecutar Stable diffusion, ininity y la interfaz\n",
        "!pip install -q gradio==3.6\n",
        "!pip install -q fpie timm"
      ]
    },
    {
      "cell_type": "code",
      "execution_count": null,
      "metadata": {
        "cellView": "form",
        "colab": {
          "base_uri": "https://localhost:8080/"
        },
        "id": "D1BDhQCJDilE",
        "outputId": "d55741eb-260f-4e61-e5ce-c090217f7736"
      },
      "outputs": [
        {
          "name": "stdout",
          "output_type": "stream",
          "text": [
            "Cloning into 'stablediffusion-infinity'...\n",
            "remote: Enumerating objects: 924, done.\u001b[K\n",
            "remote: Counting objects: 100% (456/456), done.\u001b[K\n",
            "remote: Compressing objects: 100% (230/230), done.\u001b[K\n",
            "remote: Total 924 (delta 257), reused 274 (delta 226), pack-reused 468\u001b[K\n",
            "Receiving objects: 100% (924/924), 17.01 MiB | 8.78 MiB/s, done.\n",
            "Resolving deltas: 100% (594/594), done.\n",
            "Submodule 'PyPatchMatch' (https://github.com/lkwq007/PyPatchMatch.git) registered for path 'PyPatchMatch'\n",
            "Submodule 'blip_model' (https://github.com/lkwq007/blip_model) registered for path 'blip_model'\n",
            "Submodule 'glid_3_xl_stable' (https://github.com/lkwq007/glid_3_xl_stable.git) registered for path 'glid_3_xl_stable'\n",
            "Submodule 'sd_grpcserver' (https://github.com/lkwq007/sd_grpcserver.git) registered for path 'sd_grpcserver'\n",
            "Cloning into '/content/stablediffusion-infinity/PyPatchMatch'...\n",
            "remote: Enumerating objects: 153, done.        \n",
            "remote: Counting objects: 100% (12/12), done.        \n",
            "remote: Compressing objects: 100% (2/2), done.        \n",
            "remote: Total 153 (delta 11), reused 10 (delta 10), pack-reused 141        \n",
            "Receiving objects: 100% (153/153), 1.05 MiB | 1.59 MiB/s, done.\n",
            "Resolving deltas: 100% (91/91), done.\n",
            "Cloning into '/content/stablediffusion-infinity/blip_model'...\n",
            "remote: Enumerating objects: 309, done.        \n",
            "remote: Counting objects: 100% (191/191), done.        \n",
            "remote: Compressing objects: 100% (63/63), done.        \n",
            "remote: Total 309 (delta 144), reused 148 (delta 128), pack-reused 118        \n",
            "Receiving objects: 100% (309/309), 22.49 MiB | 18.09 MiB/s, done.\n",
            "Resolving deltas: 100% (164/164), done.\n",
            "Cloning into '/content/stablediffusion-infinity/glid_3_xl_stable'...\n",
            "remote: Enumerating objects: 262, done.        \n",
            "remote: Counting objects: 100% (262/262), done.        \n",
            "remote: Compressing objects: 100% (199/199), done.        \n",
            "remote: Total 262 (delta 89), reused 226 (delta 53), pack-reused 0        \n",
            "Receiving objects: 100% (262/262), 1.57 MiB | 16.73 MiB/s, done.\n",
            "Resolving deltas: 100% (89/89), done.\n",
            "Cloning into '/content/stablediffusion-infinity/sd_grpcserver'...\n",
            "remote: Enumerating objects: 430, done.        \n",
            "remote: Counting objects: 100% (150/150), done.        \n",
            "remote: Compressing objects: 100% (32/32), done.        \n",
            "remote: Total 430 (delta 138), reused 118 (delta 118), pack-reused 280        \n",
            "Receiving objects: 100% (430/430), 591.28 KiB | 16.42 MiB/s, done.\n",
            "Resolving deltas: 100% (286/286), done.\n",
            "Submodule path 'PyPatchMatch': checked out '0ae9b8bbdc83f84214405376f13a2056568897fb'\n",
            "Submodule path 'blip_model': checked out '32eb46a6467953d4eb6dcdab361371d45ee087c4'\n",
            "Submodule path 'glid_3_xl_stable': checked out '876ad08de244fbc46b108a29b53f3109c4ae89e9'\n",
            "Submodule path 'sd_grpcserver': checked out 'd512d0cbc314ff860ebbaa5f1be94c230d297946'\n",
            "Submodule 'api-interfaces' (https://github.com/Stability-AI/api-interfaces.git) registered for path 'sd_grpcserver/api-interfaces'\n",
            "Cloning into '/content/stablediffusion-infinity/sd_grpcserver/api-interfaces'...\n",
            "remote: Enumerating objects: 2348, done.        \n",
            "remote: Counting objects: 100% (444/444), done.        \n",
            "remote: Compressing objects: 100% (153/153), done.        \n",
            "remote: Total 2348 (delta 353), reused 313 (delta 287), pack-reused 1904        \n",
            "Receiving objects: 100% (2348/2348), 3.92 MiB | 4.35 MiB/s, done.\n",
            "Resolving deltas: 100% (1606/1606), done.\n",
            "Submodule path 'sd_grpcserver/api-interfaces': checked out 'c54bcef52d6c3ba190bf98cfc660454acce4abb3'\n",
            "/content/stablediffusion-infinity\n"
          ]
        }
      ],
      "source": [
        "#@title configurar stablediffusion-infinity\n",
        "#@markdown Da los requerimientos a la interfaz de Diffusion inifinity\n",
        "!git clone --recurse-submodules https://github.com/lkwq007/stablediffusion-infinity\n",
        "%cd stablediffusion-infinity\n",
        "!cp -r PyPatchMatch/csrc .\n",
        "!cp PyPatchMatch/Makefile .\n",
        "!cp PyPatchMatch/travis.sh .\n",
        "!cp PyPatchMatch/patch_match.py . "
      ]
    },
    {
      "cell_type": "code",
      "execution_count": null,
      "metadata": {
        "cellView": "form",
        "colab": {
          "base_uri": "https://localhost:8080/",
          "height": 816
        },
        "id": "Z5zWPELkL1ww",
        "outputId": "4d620f11-27d8-473c-e6be-30f9bd9eb243"
      },
      "outputs": [
        {
          "name": "stdout",
          "output_type": "stream",
          "text": [
            "Looking in indexes: https://pypi.org/simple, https://us-python.pkg.dev/colab-wheels/public/simple/\n",
            "Collecting diffusers==0.9.0\n",
            "  Downloading diffusers-0.9.0-py3-none-any.whl (453 kB)\n",
            "\u001b[K     |████████████████████████████████| 453 kB 31.1 MB/s \n",
            "\u001b[?25hRequirement already satisfied: importlib-metadata in /usr/local/lib/python3.8/dist-packages (from diffusers==0.9.0) (4.13.0)\n",
            "Requirement already satisfied: Pillow in /usr/local/lib/python3.8/dist-packages (from diffusers==0.9.0) (7.1.2)\n",
            "Requirement already satisfied: requests in /usr/local/lib/python3.8/dist-packages (from diffusers==0.9.0) (2.23.0)\n",
            "Requirement already satisfied: numpy in /usr/local/lib/python3.8/dist-packages (from diffusers==0.9.0) (1.21.6)\n",
            "Requirement already satisfied: filelock in /usr/local/lib/python3.8/dist-packages (from diffusers==0.9.0) (3.8.0)\n",
            "Requirement already satisfied: huggingface-hub>=0.10.0 in /usr/local/lib/python3.8/dist-packages (from diffusers==0.9.0) (0.11.1)\n",
            "Requirement already satisfied: regex!=2019.12.17 in /usr/local/lib/python3.8/dist-packages (from diffusers==0.9.0) (2022.6.2)\n",
            "Requirement already satisfied: typing-extensions>=3.7.4.3 in /usr/local/lib/python3.8/dist-packages (from huggingface-hub>=0.10.0->diffusers==0.9.0) (4.1.1)\n",
            "Requirement already satisfied: packaging>=20.9 in /usr/local/lib/python3.8/dist-packages (from huggingface-hub>=0.10.0->diffusers==0.9.0) (21.3)\n",
            "Requirement already satisfied: tqdm in /usr/local/lib/python3.8/dist-packages (from huggingface-hub>=0.10.0->diffusers==0.9.0) (4.64.1)\n",
            "Requirement already satisfied: pyyaml>=5.1 in /usr/local/lib/python3.8/dist-packages (from huggingface-hub>=0.10.0->diffusers==0.9.0) (6.0)\n",
            "Requirement already satisfied: pyparsing!=3.0.5,>=2.0.2 in /usr/local/lib/python3.8/dist-packages (from packaging>=20.9->huggingface-hub>=0.10.0->diffusers==0.9.0) (3.0.9)\n",
            "Requirement already satisfied: zipp>=0.5 in /usr/local/lib/python3.8/dist-packages (from importlib-metadata->diffusers==0.9.0) (3.10.0)\n",
            "Requirement already satisfied: chardet<4,>=3.0.2 in /usr/local/lib/python3.8/dist-packages (from requests->diffusers==0.9.0) (3.0.4)\n",
            "Requirement already satisfied: idna<3,>=2.5 in /usr/local/lib/python3.8/dist-packages (from requests->diffusers==0.9.0) (2.10)\n",
            "Requirement already satisfied: urllib3!=1.25.0,!=1.25.1,<1.26,>=1.21.1 in /usr/local/lib/python3.8/dist-packages (from requests->diffusers==0.9.0) (1.24.3)\n",
            "Requirement already satisfied: certifi>=2017.4.17 in /usr/local/lib/python3.8/dist-packages (from requests->diffusers==0.9.0) (2022.9.24)\n",
            "Installing collected packages: diffusers\n",
            "Successfully installed diffusers-0.9.0\n",
            "Looking in indexes: https://pypi.org/simple, https://us-python.pkg.dev/colab-wheels/public/simple/\n",
            "Collecting omegaconf\n",
            "  Downloading omegaconf-2.2.3-py3-none-any.whl (79 kB)\n",
            "\u001b[K     |████████████████████████████████| 79 kB 7.5 MB/s \n",
            "\u001b[?25hCollecting antlr4-python3-runtime==4.9.*\n",
            "  Downloading antlr4-python3-runtime-4.9.3.tar.gz (117 kB)\n",
            "\u001b[K     |████████████████████████████████| 117 kB 52.2 MB/s \n",
            "\u001b[?25hRequirement already satisfied: PyYAML>=5.1.0 in /usr/local/lib/python3.8/dist-packages (from omegaconf) (6.0)\n",
            "Building wheels for collected packages: antlr4-python3-runtime\n",
            "  Building wheel for antlr4-python3-runtime (setup.py) ... \u001b[?25l\u001b[?25hdone\n",
            "  Created wheel for antlr4-python3-runtime: filename=antlr4_python3_runtime-4.9.3-py3-none-any.whl size=144575 sha256=f6d8de5f36debe5877b79be0726ce54781c9c7e4d09dc04d5ad5813941a9d9aa\n",
            "  Stored in directory: /root/.cache/pip/wheels/b1/a3/c2/6df046c09459b73cc9bb6c4401b0be6c47048baf9a1617c485\n",
            "Successfully built antlr4-python3-runtime\n",
            "Installing collected packages: antlr4-python3-runtime, omegaconf\n",
            "Successfully installed antlr4-python3-runtime-4.9.3 omegaconf-2.2.3\n"
          ]
        },
        {
          "data": {
            "application/vnd.colab-display-data+json": {
              "pip_warning": {
                "packages": [
                  "pydevd_plugins"
                ]
              }
            }
          },
          "metadata": {},
          "output_type": "display_data"
        }
      ],
      "source": [
        "#@markdown Actualizacion extra para el uso del modelo ckpt\n",
        "!pip install diffusers==0.9.0\n",
        "!pip install omegaconf"
      ]
    },
    {
      "cell_type": "code",
      "execution_count": null,
      "metadata": {
        "cellView": "form",
        "colab": {
          "background_save": true,
          "base_uri": "https://localhost:8080/"
        },
        "id": "UGotC5ckDlmO",
        "outputId": "6514753e-9b93-40cb-9e1c-469e336b373d"
      },
      "outputs": [
        {
          "name": "stdout",
          "output_type": "stream",
          "text": [
            "Compiling and loading c extensions from \"/content/stablediffusion-infinity/PyPatchMatch\".\n",
            "mkdir: created directory 'build'\n",
            "mkdir: created directory 'build/obj'\n",
            "mkdir: created directory 'build/obj/csrc/'\n",
            "[dep] csrc/masked_image.cpp ...\n",
            "[dep] csrc/nnf.cpp ...\n",
            "[dep] csrc/pyinterface.cpp ...\n",
            "[dep] csrc/inpaint.cpp ...\n",
            "rm -rf build/obj libpatchmatch.so\n",
            "mkdir: created directory 'build/obj'\n",
            "mkdir: created directory 'build/obj/csrc/'\n",
            "[dep] csrc/masked_image.cpp ...\n",
            "[dep] csrc/nnf.cpp ...\n",
            "[dep] csrc/pyinterface.cpp ...\n",
            "[dep] csrc/inpaint.cpp ...\n",
            "[CC] csrc/inpaint.cpp ...\n",
            "[CC] csrc/pyinterface.cpp ...\n",
            "[CC] csrc/nnf.cpp ...\n",
            "[CC] csrc/masked_image.cpp ...\n",
            "[link] libpatchmatch.so ...\n",
            "[Taichi] version 1.3.0, llvm 15.0.4, commit 0f25b95e, linux, python 3.8.15\n",
            "---------------------------------------------------------\n",
            "Found 1 CUDA devices\n",
            "Device 0: Tesla T4\n",
            "   SMs:        40\n",
            "   Global mem: 15110 MB\n",
            "   CUDA Cap:   7.5\n",
            "---------------------------------------------------------\n",
            "[PIE]Successfully initialize PIE grid solver with cuda backend\n",
            "Running on local URL:  http://127.0.0.1:7860\n",
            "Running on public URL: https://22e4b545e4ac3a1e.gradio.app\n",
            "\n",
            "This share link expires in 72 hours. For free permanent hosting and GPU upgrades (NEW!), check out Spaces: https://huggingface.co/spaces\n"
          ]
        }
      ],
      "source": [
        "#@title iniciar\n",
        "#@markdown Iniciar stablediffusion-infinity (la primera configuración puede tardar alrededor de dos minutos en descargar los modelos). En la interfaz, en la sección de directorio, se debe poner la ruta del archivo ckpt de google drive para iniciar la versión infinity.\n",
        "!python app.py --share"
      ]
    }
  ],
  "metadata": {
    "accelerator": "GPU",
    "colab": {
      "provenance": []
    },
    "kernelspec": {
      "display_name": "Python 3",
      "name": "python3"
    },
    "language_info": {
      "name": "python"
    }
  },
  "nbformat": 4,
  "nbformat_minor": 0
}